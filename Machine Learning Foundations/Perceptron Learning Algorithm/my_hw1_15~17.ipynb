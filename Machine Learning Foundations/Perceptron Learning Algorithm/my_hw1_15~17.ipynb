{
 "cells": [
  {
   "cell_type": "markdown",
   "metadata": {},
   "source": [
    "# 机器学习基石 - hw1 - Q15~17"
   ]
  },
  {
   "cell_type": "markdown",
   "metadata": {},
   "source": [
    "前期了解知识点：\n",
    "* numpy 和 pandas 的关系（[参考 1](https://www.douban.com/note/635632989/)）"
   ]
  },
  {
   "cell_type": "markdown",
   "metadata": {},
   "source": [
    "## 零、构思\n",
    "\n",
    "- [x] 从文件读取数据\n",
    "- [x] 数据转化为 x, y, w 的形式\n",
    "- [x] 编写 PLA 单次修正的函数\n",
    "- [x] 设定初始值\n",
    "- [x] 创建需要最终记录的变量\n",
    "- [x] 执行 PLA 训练，输出所需结果\n",
    "\n",
    "本程序实验环境为：\n",
    "\n",
    "* python 3.7 (用的 conda 环境)\n",
    "* numpy 1.17\n",
    "* pandas 0.25"
   ]
  },
  {
   "cell_type": "markdown",
   "metadata": {},
   "source": [
    "## 一、数据集读取 - pandas\n",
    "\n",
    "\n",
    "### 1.1 从文件读取数据集\n",
    "\n",
    "\n",
    "> [pandas | How do I read and write tabular data?](https://pandas.pydata.org/pandas-docs/stable/getting_started/intro_tutorials/02_read_write.html#min-tut-02-read-write)\n",
    "\n",
    "原始作业数据为 `.dat` 文件，查看发现该文件 `空格` 和 `Tab` 混用了，所以需要手动设置分隔符。\n",
    "\n",
    "[用 pandas 进行数据读取](https://pandas.pydata.org/pandas-docs/stable/reference/api/pandas.read_csv.html#pandas.read_csv)：pandas 中，\n",
    "* [`read_table`](https://pandas.pydata.org/pandas-docs/stable/reference/api/pandas.read_table.html#pandas.read_table) 函数默认分隔符为 `\\t`\n",
    "* 而 [`read_csv`](https://pandas.pydata.org/pandas-docs/stable/reference/api/pandas.read_csv.html#pandas.read_csv) 函数默认分隔符为 `,`\n",
    "\n",
    "两者之间只有默认分隔符的区别。推荐统一使用 `read_csv`，分隔符不同时进行手动指定。（参见 [github 上关于不推荐用 read_table 的讨论](https://github.com/pandas-dev/pandas/issues/25220)）"
   ]
  },
  {
   "cell_type": "code",
   "execution_count": 1,
   "metadata": {},
   "outputs": [
    {
     "data": {
      "text/html": [
       "<div>\n",
       "<style scoped>\n",
       "    .dataframe tbody tr th:only-of-type {\n",
       "        vertical-align: middle;\n",
       "    }\n",
       "\n",
       "    .dataframe tbody tr th {\n",
       "        vertical-align: top;\n",
       "    }\n",
       "\n",
       "    .dataframe thead th {\n",
       "        text-align: right;\n",
       "    }\n",
       "</style>\n",
       "<table border=\"1\" class=\"dataframe\">\n",
       "  <thead>\n",
       "    <tr style=\"text-align: right;\">\n",
       "      <th></th>\n",
       "      <th>x1</th>\n",
       "      <th>x2</th>\n",
       "      <th>x3</th>\n",
       "      <th>x4</th>\n",
       "      <th>y</th>\n",
       "    </tr>\n",
       "  </thead>\n",
       "  <tbody>\n",
       "    <tr>\n",
       "      <th>0</th>\n",
       "      <td>0.97681</td>\n",
       "      <td>0.107230</td>\n",
       "      <td>0.64385</td>\n",
       "      <td>0.29556</td>\n",
       "      <td>1</td>\n",
       "    </tr>\n",
       "    <tr>\n",
       "      <th>1</th>\n",
       "      <td>0.67194</td>\n",
       "      <td>0.241800</td>\n",
       "      <td>0.83075</td>\n",
       "      <td>0.42741</td>\n",
       "      <td>1</td>\n",
       "    </tr>\n",
       "    <tr>\n",
       "      <th>2</th>\n",
       "      <td>0.20619</td>\n",
       "      <td>0.233210</td>\n",
       "      <td>0.81004</td>\n",
       "      <td>0.98691</td>\n",
       "      <td>1</td>\n",
       "    </tr>\n",
       "    <tr>\n",
       "      <th>3</th>\n",
       "      <td>0.51583</td>\n",
       "      <td>0.055814</td>\n",
       "      <td>0.92274</td>\n",
       "      <td>0.75797</td>\n",
       "      <td>1</td>\n",
       "    </tr>\n",
       "    <tr>\n",
       "      <th>4</th>\n",
       "      <td>0.70893</td>\n",
       "      <td>0.108360</td>\n",
       "      <td>0.33951</td>\n",
       "      <td>0.77058</td>\n",
       "      <td>1</td>\n",
       "    </tr>\n",
       "  </tbody>\n",
       "</table>\n",
       "</div>"
      ],
      "text/plain": [
       "        x1        x2       x3       x4  y\n",
       "0  0.97681  0.107230  0.64385  0.29556  1\n",
       "1  0.67194  0.241800  0.83075  0.42741  1\n",
       "2  0.20619  0.233210  0.81004  0.98691  1\n",
       "3  0.51583  0.055814  0.92274  0.75797  1\n",
       "4  0.70893  0.108360  0.33951  0.77058  1"
      ]
     },
     "execution_count": 1,
     "metadata": {},
     "output_type": "execute_result"
    }
   ],
   "source": [
    "import pandas as pd\n",
    "import numpy as np\n",
    "\n",
    "# 读取 .dat 文件，names 指定列名，delim_whitespace 设为 True 等同于设置 sep='\\s+'\n",
    "dataset = pd.read_csv(\"resource\\hw1_15_train.dat\", names=['x1', 'x2', 'x3', 'x4', 'y'], delim_whitespace=True)\n",
    "\n",
    "# 查看前指定行数据（默认为 5），检查是否正确读取 / dataset.tail(n) 查看末几行\n",
    "dataset.head()"
   ]
  },
  {
   "cell_type": "code",
   "execution_count": 2,
   "metadata": {
    "scrolled": true
   },
   "outputs": [
    {
     "name": "stdout",
     "output_type": "stream",
     "text": [
      "<class 'pandas.core.frame.DataFrame'>\n",
      "RangeIndex: 400 entries, 0 to 399\n",
      "Data columns (total 5 columns):\n",
      "x1    400 non-null float64\n",
      "x2    400 non-null float64\n",
      "x3    400 non-null float64\n",
      "x4    400 non-null float64\n",
      "y     400 non-null int64\n",
      "dtypes: float64(4), int64(1)\n",
      "memory usage: 15.8 KB\n"
     ]
    }
   ],
   "source": [
    "# 查看指定列\n",
    "# dataset['x1']\n",
    "\n",
    "# 查看每列数据类型（dtypes 是 DataFrame 和 Series 的一个属性，而不是一个函数）\n",
    "# dataset.dtypes\n",
    "\n",
    "# 查看描述性统计数据\n",
    "# dataset.describe()\n",
    "\n",
    "# 查看 technical information（其中 entries 指“条目”，即有多少行）\n",
    "dataset.info()"
   ]
  },
  {
   "cell_type": "code",
   "execution_count": 3,
   "metadata": {},
   "outputs": [
    {
     "data": {
      "text/plain": [
       "pandas.core.frame.DataFrame"
      ]
     },
     "execution_count": 3,
     "metadata": {},
     "output_type": "execute_result"
    }
   ],
   "source": [
    "type(dataset)"
   ]
  },
  {
   "cell_type": "markdown",
   "metadata": {},
   "source": [
    "`pd.read_csv` 返回的数据类型为 `DataFrame`.\n",
    "\n",
    "pandas 有两个主要的数据类型：`DataFrame` 和 `Series`.\n",
    "* `DataFrame` 相当于一个二维表格\n",
    "* `DataFrame` 的每一列是一个 `Series` "
   ]
  },
  {
   "cell_type": "markdown",
   "metadata": {},
   "source": [
    "### 1.2 数据集插入列\n",
    "\n",
    "**将 x0 插入到数据表中**：[`DataFrame.insert`](https://pandas.pydata.org/pandas-docs/stable/reference/api/pandas.DataFrame.insert.html)"
   ]
  },
  {
   "cell_type": "code",
   "execution_count": 4,
   "metadata": {},
   "outputs": [
    {
     "data": {
      "text/html": [
       "<div>\n",
       "<style scoped>\n",
       "    .dataframe tbody tr th:only-of-type {\n",
       "        vertical-align: middle;\n",
       "    }\n",
       "\n",
       "    .dataframe tbody tr th {\n",
       "        vertical-align: top;\n",
       "    }\n",
       "\n",
       "    .dataframe thead th {\n",
       "        text-align: right;\n",
       "    }\n",
       "</style>\n",
       "<table border=\"1\" class=\"dataframe\">\n",
       "  <thead>\n",
       "    <tr style=\"text-align: right;\">\n",
       "      <th></th>\n",
       "      <th>x0</th>\n",
       "      <th>x1</th>\n",
       "      <th>x2</th>\n",
       "      <th>x3</th>\n",
       "      <th>x4</th>\n",
       "      <th>y</th>\n",
       "    </tr>\n",
       "  </thead>\n",
       "  <tbody>\n",
       "    <tr>\n",
       "      <th>0</th>\n",
       "      <td>1</td>\n",
       "      <td>0.976810</td>\n",
       "      <td>0.107230</td>\n",
       "      <td>0.643850</td>\n",
       "      <td>0.295560</td>\n",
       "      <td>1</td>\n",
       "    </tr>\n",
       "    <tr>\n",
       "      <th>1</th>\n",
       "      <td>1</td>\n",
       "      <td>0.671940</td>\n",
       "      <td>0.241800</td>\n",
       "      <td>0.830750</td>\n",
       "      <td>0.427410</td>\n",
       "      <td>1</td>\n",
       "    </tr>\n",
       "    <tr>\n",
       "      <th>2</th>\n",
       "      <td>1</td>\n",
       "      <td>0.206190</td>\n",
       "      <td>0.233210</td>\n",
       "      <td>0.810040</td>\n",
       "      <td>0.986910</td>\n",
       "      <td>1</td>\n",
       "    </tr>\n",
       "    <tr>\n",
       "      <th>3</th>\n",
       "      <td>1</td>\n",
       "      <td>0.515830</td>\n",
       "      <td>0.055814</td>\n",
       "      <td>0.922740</td>\n",
       "      <td>0.757970</td>\n",
       "      <td>1</td>\n",
       "    </tr>\n",
       "    <tr>\n",
       "      <th>4</th>\n",
       "      <td>1</td>\n",
       "      <td>0.708930</td>\n",
       "      <td>0.108360</td>\n",
       "      <td>0.339510</td>\n",
       "      <td>0.770580</td>\n",
       "      <td>1</td>\n",
       "    </tr>\n",
       "    <tr>\n",
       "      <th>...</th>\n",
       "      <td>...</td>\n",
       "      <td>...</td>\n",
       "      <td>...</td>\n",
       "      <td>...</td>\n",
       "      <td>...</td>\n",
       "      <td>...</td>\n",
       "    </tr>\n",
       "    <tr>\n",
       "      <th>395</th>\n",
       "      <td>1</td>\n",
       "      <td>0.712060</td>\n",
       "      <td>0.515690</td>\n",
       "      <td>0.181680</td>\n",
       "      <td>0.555700</td>\n",
       "      <td>1</td>\n",
       "    </tr>\n",
       "    <tr>\n",
       "      <th>396</th>\n",
       "      <td>1</td>\n",
       "      <td>0.175280</td>\n",
       "      <td>0.262500</td>\n",
       "      <td>0.830600</td>\n",
       "      <td>0.029669</td>\n",
       "      <td>-1</td>\n",
       "    </tr>\n",
       "    <tr>\n",
       "      <th>397</th>\n",
       "      <td>1</td>\n",
       "      <td>0.938950</td>\n",
       "      <td>0.939410</td>\n",
       "      <td>0.724960</td>\n",
       "      <td>0.956550</td>\n",
       "      <td>1</td>\n",
       "    </tr>\n",
       "    <tr>\n",
       "      <th>398</th>\n",
       "      <td>1</td>\n",
       "      <td>0.046136</td>\n",
       "      <td>0.944130</td>\n",
       "      <td>0.038311</td>\n",
       "      <td>0.268120</td>\n",
       "      <td>-1</td>\n",
       "    </tr>\n",
       "    <tr>\n",
       "      <th>399</th>\n",
       "      <td>1</td>\n",
       "      <td>0.072491</td>\n",
       "      <td>0.224200</td>\n",
       "      <td>0.625920</td>\n",
       "      <td>0.672380</td>\n",
       "      <td>1</td>\n",
       "    </tr>\n",
       "  </tbody>\n",
       "</table>\n",
       "<p>400 rows × 6 columns</p>\n",
       "</div>"
      ],
      "text/plain": [
       "     x0        x1        x2        x3        x4  y\n",
       "0     1  0.976810  0.107230  0.643850  0.295560  1\n",
       "1     1  0.671940  0.241800  0.830750  0.427410  1\n",
       "2     1  0.206190  0.233210  0.810040  0.986910  1\n",
       "3     1  0.515830  0.055814  0.922740  0.757970  1\n",
       "4     1  0.708930  0.108360  0.339510  0.770580  1\n",
       "..   ..       ...       ...       ...       ... ..\n",
       "395   1  0.712060  0.515690  0.181680  0.555700  1\n",
       "396   1  0.175280  0.262500  0.830600  0.029669 -1\n",
       "397   1  0.938950  0.939410  0.724960  0.956550  1\n",
       "398   1  0.046136  0.944130  0.038311  0.268120 -1\n",
       "399   1  0.072491  0.224200  0.625920  0.672380  1\n",
       "\n",
       "[400 rows x 6 columns]"
      ]
     },
     "execution_count": 4,
     "metadata": {},
     "output_type": "execute_result"
    }
   ],
   "source": [
    "dataset.insert(0, 'x0', 1)  # 注意 x0 = 1 而不是 0 ……\n",
    "dataset"
   ]
  },
  {
   "cell_type": "markdown",
   "metadata": {},
   "source": [
    "## 二、数据处理 - numpy\n",
    "\n",
    "\n",
    "### 2.1 用矩阵存储自变量与因变量\n",
    "\n",
    "\n",
    "[`df.iloc`](https://pandas.pydata.org/pandas-docs/stable/reference/api/pandas.DataFrame.iloc.html)"
   ]
  },
  {
   "cell_type": "code",
   "execution_count": 5,
   "metadata": {},
   "outputs": [
    {
     "data": {
      "text/plain": [
       "array([[1.      , 0.97681 , 0.10723 , 0.64385 , 0.29556 ],\n",
       "       [1.      , 0.67194 , 0.2418  , 0.83075 , 0.42741 ],\n",
       "       [1.      , 0.20619 , 0.23321 , 0.81004 , 0.98691 ],\n",
       "       ...,\n",
       "       [1.      , 0.93895 , 0.93941 , 0.72496 , 0.95655 ],\n",
       "       [1.      , 0.046136, 0.94413 , 0.038311, 0.26812 ],\n",
       "       [1.      , 0.072491, 0.2242  , 0.62592 , 0.67238 ]])"
      ]
     },
     "execution_count": 5,
     "metadata": {},
     "output_type": "execute_result"
    }
   ],
   "source": [
    "# 第一个 ':' 表示提取数据集的全部行，':-1' 表示提取除最后一列外的所有列\n",
    "X = dataset.iloc[:, :-1].values\n",
    "\n",
    "# todo: 怎么把 x0 加进去？\n",
    "X"
   ]
  },
  {
   "cell_type": "code",
   "execution_count": 6,
   "metadata": {},
   "outputs": [
    {
     "data": {
      "text/plain": [
       "array([ 1,  1,  1,  1,  1,  1, -1,  1, -1, -1,  1,  1,  1, -1, -1,  1,  1,\n",
       "        1, -1,  1,  1,  1,  1,  1,  1,  1, -1,  1,  1, -1, -1,  1,  1, -1,\n",
       "        1,  1, -1, -1,  1, -1, -1,  1, -1,  1,  1,  1, -1, -1,  1,  1,  1,\n",
       "        1,  1,  1,  1,  1,  1, -1, -1,  1, -1,  1, -1, -1,  1, -1,  1, -1,\n",
       "       -1,  1,  1,  1, -1,  1,  1,  1,  1,  1,  1, -1,  1,  1,  1, -1,  1,\n",
       "        1, -1,  1,  1,  1,  1,  1,  1,  1, -1,  1, -1,  1,  1, -1,  1,  1,\n",
       "        1,  1, -1,  1,  1,  1,  1, -1,  1, -1,  1,  1, -1,  1,  1,  1,  1,\n",
       "       -1,  1, -1, -1, -1,  1,  1,  1,  1,  1,  1,  1, -1, -1,  1,  1, -1,\n",
       "        1, -1,  1,  1,  1, -1,  1, -1, -1,  1, -1, -1,  1,  1,  1,  1, -1,\n",
       "        1,  1,  1,  1,  1,  1,  1,  1, -1, -1, -1,  1, -1,  1, -1,  1, -1,\n",
       "        1,  1, -1, -1,  1, -1,  1,  1,  1,  1,  1,  1,  1,  1, -1,  1,  1,\n",
       "       -1,  1,  1,  1,  1,  1, -1,  1,  1,  1,  1,  1,  1, -1, -1, -1, -1,\n",
       "        1, -1,  1,  1, -1,  1, -1, -1,  1,  1,  1,  1,  1,  1,  1, -1,  1,\n",
       "       -1,  1,  1,  1,  1,  1,  1,  1,  1,  1,  1,  1, -1,  1, -1,  1,  1,\n",
       "       -1,  1,  1,  1,  1, -1,  1, -1,  1,  1,  1,  1,  1, -1,  1, -1,  1,\n",
       "        1,  1, -1, -1,  1,  1,  1,  1,  1, -1,  1,  1,  1,  1,  1,  1,  1,\n",
       "        1,  1, -1,  1,  1,  1,  1, -1,  1,  1,  1,  1,  1,  1,  1,  1,  1,\n",
       "        1,  1,  1,  1, -1,  1, -1,  1,  1,  1, -1, -1, -1,  1,  1,  1,  1,\n",
       "        1,  1,  1,  1,  1, -1,  1,  1,  1, -1,  1,  1, -1, -1, -1,  1,  1,\n",
       "       -1, -1,  1, -1, -1, -1,  1,  1,  1,  1,  1,  1,  1,  1, -1,  1,  1,\n",
       "        1,  1, -1,  1,  1, -1, -1,  1, -1,  1,  1, -1,  1,  1,  1,  1,  1,\n",
       "       -1,  1,  1,  1,  1,  1,  1,  1,  1, -1,  1,  1,  1, -1,  1, -1,  1,\n",
       "        1,  1, -1,  1,  1,  1, -1, -1,  1,  1,  1,  1,  1,  1,  1,  1,  1,\n",
       "        1, -1,  1, -1,  1, -1,  1, -1,  1], dtype=int64)"
      ]
     },
     "execution_count": 6,
     "metadata": {},
     "output_type": "execute_result"
    }
   ],
   "source": [
    "y = dataset.iloc[:, -1].values\n",
    "y"
   ]
  },
  {
   "cell_type": "code",
   "execution_count": 7,
   "metadata": {},
   "outputs": [
    {
     "name": "stdout",
     "output_type": "stream",
     "text": [
      "type(X): <class 'numpy.ndarray'>\n",
      "type(y): <class 'numpy.ndarray'>\n"
     ]
    }
   ],
   "source": [
    "print(\"type(X):\", type(X))\n",
    "print(\"type(y):\", type(y))"
   ]
  },
  {
   "cell_type": "markdown",
   "metadata": {},
   "source": [
    "[numpy](https://numpy.org/devdocs/user/quickstart.html#the-basics) 最重要的数据类型就是 `ndarray`，即多维矩阵"
   ]
  },
  {
   "cell_type": "code",
   "execution_count": 8,
   "metadata": {},
   "outputs": [
    {
     "data": {
      "text/plain": [
       "(400, 5)"
      ]
     },
     "execution_count": 8,
     "metadata": {},
     "output_type": "execute_result"
    }
   ],
   "source": [
    "# 查看 ndarray 的形状\n",
    "X.shape"
   ]
  },
  {
   "cell_type": "markdown",
   "metadata": {},
   "source": [
    "## 三、PLA 算法"
   ]
  },
  {
   "cell_type": "markdown",
   "metadata": {},
   "source": [
    "### 3.1 定义 sign 函数"
   ]
  },
  {
   "cell_type": "markdown",
   "metadata": {},
   "source": [
    "numpy 本身有自带的 [`numpy.sign`](https://numpy.org/doc/stable/reference/generated/numpy.sign.html?highlight=sign#numpy.sign) 函数，不过题目中要求定义 sign(0) = -1，与标准的 sign 函数不太一样，所以自定义 sign 函数。"
   ]
  },
  {
   "cell_type": "code",
   "execution_count": 9,
   "metadata": {},
   "outputs": [],
   "source": [
    "def sign(n):\n",
    "    if n > 0:\n",
    "        return 1\n",
    "    else:\n",
    "        return -1"
   ]
  },
  {
   "cell_type": "markdown",
   "metadata": {},
   "source": [
    "### 3.2 定义 w 更新规则"
   ]
  },
  {
   "cell_type": "code",
   "execution_count": 10,
   "metadata": {},
   "outputs": [],
   "source": [
    "def pla_update(wt, xt, yt):\n",
    "    \"\"\"根据规则更新 w\"\"\"\n",
    "    w_updated = wt + yt * xt\n",
    "    return w_updated"
   ]
  },
  {
   "cell_type": "markdown",
   "metadata": {},
   "source": [
    "### 3.3 定义 PLA 执行过程\n",
    "\n",
    "只要有修正，就需要重新检查所有的数据点，避免因后面某一次修正过度，导致之前的点为错误点。"
   ]
  },
  {
   "cell_type": "code",
   "execution_count": 11,
   "metadata": {},
   "outputs": [],
   "source": [
    "def pla(w0, X, y, update_func):\n",
    "    wt = w0.copy()  # 要用 copy\n",
    "    t_up = 0  # 总修正次数\n",
    "    t = 0  # 当前 w 已验证的正确点个数，只要有修正就重新计数\n",
    "    \n",
    "    i = 0\n",
    "    while i < len(X):\n",
    "        xt = X[i]\n",
    "        yt = y[i]\n",
    "        ht = sign(np.vdot(wt, xt))\n",
    "        \n",
    "        if ht != yt:  # 找到错误点\n",
    "            wt = update_func(wt, xt, yt)\n",
    "            t_up += 1\n",
    "            t = 0\n",
    "            # print(f\"No.{t_up} update: {wt}\")\n",
    "        else:\n",
    "            t += 1\n",
    "            if t >= len(X):\n",
    "                return t_up, wt\n",
    "        \n",
    "        # 循环查找数据中的点以确保每个点都正确\n",
    "        i += 1\n",
    "        if i >= len(X):\n",
    "            i -= len(X)\n",
    "    \n",
    "    return None, None"
   ]
  },
  {
   "cell_type": "markdown",
   "metadata": {},
   "source": [
    "## Q15"
   ]
  },
  {
   "cell_type": "code",
   "execution_count": 12,
   "metadata": {},
   "outputs": [
    {
     "name": "stdout",
     "output_type": "stream",
     "text": [
      "------------------------------------------------------\n",
      "Number of Updates: 45\n",
      "Final wg: [-3.         3.0841436 -1.583081   2.391305   4.5287635]\n",
      "------------------------------------------------------\n"
     ]
    }
   ],
   "source": [
    "# 设定 w 初始值\n",
    "w0 = np.zeros(5)\n",
    "\n",
    "t_up, wg = pla(w0, X, y, pla_update)\n",
    "print(\"------------------------------------------------------\")\n",
    "print(\"Number of Updates:\", t_up)\n",
    "print(\"Final wg:\", wg)\n",
    "print(\"------------------------------------------------------\")"
   ]
  },
  {
   "cell_type": "markdown",
   "metadata": {},
   "source": [
    "## Q16\n",
    "\n",
    "* ndarray 如果直接用 `arr2 = arr1` 拷贝，则 `arr2 is arr1` 为 `True`，改变其中任一个，也会造成另一个的改变\n",
    "* 为了仅拷贝值，使其是两个不同的对象，不会关联改变，需要用 `arr2 = arr1.copy()`\n",
    "\n",
    "为打乱 X 和 y，同时不改变两者相对顺序，可以用 numpy 的 array indexing（参考：[StackOverflow -  Better way to shuffle two numpy arrays in unison](https://stackoverflow.com/questions/4601373/better-way-to-shuffle-two-numpy-arrays-in-unison))"
   ]
  },
  {
   "cell_type": "code",
   "execution_count": 13,
   "metadata": {},
   "outputs": [],
   "source": [
    "def unison_shuffled_copies(arr1, arr2):\n",
    "    \"\"\"打乱两个 numpy array 的顺序而保持相对顺序不变\"\"\"\n",
    "    assert len(arr1) == len(arr2)\n",
    "    p = np.random.permutation(len(arr1))\n",
    "    return arr1[p], arr2[p]"
   ]
  },
  {
   "cell_type": "code",
   "execution_count": 14,
   "metadata": {
    "scrolled": true
   },
   "outputs": [
    {
     "name": "stdout",
     "output_type": "stream",
     "text": [
      "------------------------------------------------------\n",
      "Average Number of Updates in 2000 Experiments: 40.071\n",
      "------------------------------------------------------\n"
     ]
    }
   ],
   "source": [
    "T_REPEAT = 2000\n",
    "\n",
    "def pla_random(w0, X, y, update_func, t_repeat):\n",
    "    sum_t_up = 0\n",
    "    j = 0\n",
    "    while j < t_repeat:\n",
    "        X_rand, y_rand = unison_shuffled_copies(X, y)\n",
    "        t_up_rand, _ = pla(w0, X_rand, y_rand, pla_update)\n",
    "#         print(f\"Exp.{j} t_up = {t_up_rand}\")\n",
    "        sum_t_up += t_up_rand\n",
    "        j += 1\n",
    "    avg_t_up = sum_t_up / t_repeat\n",
    "    return avg_t_up\n",
    "\n",
    "avg_t_up = pla_random(w0, X, y, pla_update, T_REPEAT)\n",
    "print(\"------------------------------------------------------\")\n",
    "print(f\"Average Number of Updates in {T_REPEAT} Experiments:\", avg_t_up)\n",
    "print(\"------------------------------------------------------\")\n"
   ]
  },
  {
   "cell_type": "markdown",
   "metadata": {},
   "source": [
    "## Q17\n",
    "\n",
    "根据题目要求，再次封装了之前的程序以便复用"
   ]
  },
  {
   "cell_type": "code",
   "execution_count": 15,
   "metadata": {},
   "outputs": [
    {
     "name": "stdout",
     "output_type": "stream",
     "text": [
      "------------------------------------------------------\n",
      "Average Number of Updates in 2000 Experiments: 40.0845\n",
      "------------------------------------------------------\n"
     ]
    }
   ],
   "source": [
    "def pla_update_with_factor(wt, xt, yt, yita=0.5):\n",
    "    \"\"\"根据规则更新 w\"\"\"\n",
    "    w_updated = wt + yita * yt * xt\n",
    "    return w_updated\n",
    "\n",
    "avg_t_up2 = pla_random(w0, X, y, pla_update_with_factor, T_REPEAT)\n",
    "print(\"------------------------------------------------------\")\n",
    "print(f\"Average Number of Updates in {T_REPEAT} Experiments:\", avg_t_up2)\n",
    "print(\"------------------------------------------------------\")\n"
   ]
  }
 ],
 "metadata": {
  "kernelspec": {
   "display_name": "Python [conda env:root] *",
   "language": "python",
   "name": "conda-root-py"
  },
  "language_info": {
   "codemirror_mode": {
    "name": "ipython",
    "version": 3
   },
   "file_extension": ".py",
   "mimetype": "text/x-python",
   "name": "python",
   "nbconvert_exporter": "python",
   "pygments_lexer": "ipython3",
   "version": "3.7.5"
  }
 },
 "nbformat": 4,
 "nbformat_minor": 2
}
